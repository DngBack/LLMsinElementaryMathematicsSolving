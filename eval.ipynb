{
 "cells": [
  {
   "cell_type": "code",
   "execution_count": 1,
   "metadata": {},
   "outputs": [
    {
     "name": "stderr",
     "output_type": "stream",
     "text": [
      "/usr/lib/python3/dist-packages/tqdm/auto.py:21: TqdmWarning: IProgress not found. Please update jupyter and ipywidgets. See https://ipywidgets.readthedocs.io/en/stable/user_install.html\n",
      "  from .autonotebook import tqdm as notebook_tqdm\n",
      "/root/.cache/huggingface/modules/transformers_modules/vinai/PhoGPT-7B5-Instruct/d1a5a418bf01d49e8bf1b5b737b8ef143a33d9fd/configuration_mpt.py:97: UserWarning: alibi is turned on, setting `learned_pos_emb` to `False.`\n",
      "  warnings.warn(f'alibi is turned on, setting `learned_pos_emb` to `False.`')\n",
      "Loading checkpoint shards: 100%|██████████| 2/2 [00:09<00:00,  4.97s/it]\n"
     ]
    },
    {
     "data": {
      "text/plain": [
       "'PROMPT = \"### Câu hỏi:\\n{instruction}\\n\\n### Trả lời:\"  \\n  \\ninput_prompt = PROMPT.format_map(  \\n    {\"instruction\": \"Một người bán hàng bỏ ra 80,000 đồng tiền vốn và bị lỗ 6%. Để tính số tiền lỗ ta phải tính\"}  \\n)  \\n  \\ninput_ids = tokenizer(input_prompt, return_tensors=\"pt\")  \\n  \\noutputs = model.generate(  \\n    inputs=input_ids[\"input_ids\"].to(\"cuda\"),  \\n    attention_mask=input_ids[\"attention_mask\"].to(\"cuda\"),  \\n    do_sample=True,  \\n    temperature=1.0,  \\n    top_k=50,  \\n    top_p=0.9,  \\n    max_new_tokens=1024,  \\n    eos_token_id=tokenizer.eos_token_id,  \\n    pad_token_id=tokenizer.pad_token_id  \\n)  \\n  \\nresponse = tokenizer.batch_decode(outputs, skip_special_tokens=True)[0]  \\nresponse = response.split(\"### Trả lời:\")[1]'"
      ]
     },
     "execution_count": 1,
     "metadata": {},
     "output_type": "execute_result"
    }
   ],
   "source": [
    "import torch\n",
    "from transformers import AutoConfig, AutoModelForCausalLM, AutoTokenizer  \n",
    "from llm_foundry.scripts.train.dataloader import *\n",
    "\n",
    "model_path = \"vinai/PhoGPT-7B5-Instruct\"  \n",
    "  \n",
    "config = AutoConfig.from_pretrained(model_path, trust_remote_code=True)  \n",
    "config.init_device = \"cuda\"\n",
    "  \n",
    "model = AutoModelForCausalLM.from_pretrained(  \n",
    "    model_path, config=config, torch_dtype=torch.bfloat16, trust_remote_code=True  \n",
    ")\n",
    "\n",
    "model.eval()  \n",
    "  \n",
    "tokenizer = AutoTokenizer.from_pretrained(model_path, trust_remote_code=True)  \n",
    "  \n",
    "\"\"\"PROMPT = \"### Câu hỏi:\\n{instruction}\\n\\n### Trả lời:\"  \n",
    "  \n",
    "input_prompt = PROMPT.format_map(  \n",
    "    {\"instruction\": \"Một người bán hàng bỏ ra 80,000 đồng tiền vốn và bị lỗ 6%. Để tính số tiền lỗ ta phải tính\"}  \n",
    ")  \n",
    "  \n",
    "input_ids = tokenizer(input_prompt, return_tensors=\"pt\")  \n",
    "  \n",
    "outputs = model.generate(  \n",
    "    inputs=input_ids[\"input_ids\"].to(\"cuda\"),  \n",
    "    attention_mask=input_ids[\"attention_mask\"].to(\"cuda\"),  \n",
    "    do_sample=True,  \n",
    "    temperature=1.0,  \n",
    "    top_k=50,  \n",
    "    top_p=0.9,  \n",
    "    max_new_tokens=1024,  \n",
    "    eos_token_id=tokenizer.eos_token_id,  \n",
    "    pad_token_id=tokenizer.pad_token_id  \n",
    ")  \n",
    "  \n",
    "response = tokenizer.batch_decode(outputs, skip_special_tokens=True)[0]  \n",
    "response = response.split(\"### Trả lời:\")[1]\"\"\""
   ]
  },
  {
   "cell_type": "code",
   "execution_count": 2,
   "metadata": {},
   "outputs": [],
   "source": [
    "import json\n",
    "\n",
    "f = open(\"/root/zaloai/data/math_train.json\", \"r\")\n",
    "data = json.load(f)\n",
    "\n",
    "data = data['data']"
   ]
  },
  {
   "cell_type": "code",
   "execution_count": 29,
   "metadata": {},
   "outputs": [
    {
     "name": "stdout",
     "output_type": "stream",
     "text": [
      "{'prompt': 'Hãy trả lời bằng một đáp án đúng. Ví dụ: A. Câu hỏi: Một người bán hàng bỏ ra 80,000 đồng tiền vốn và bị lỗ 6%. Để tính số tiền lỗ ta phải tính Lựa chọn: A. 80,000 : 6 B. 80,000 x 6 C. 80,000 : (6 x 100) D. (80,000 x 6) : 100', 'response': 'D. (80,000 x 6) : 100'}\n"
     ]
    },
    {
     "data": {
      "text/plain": [
       "'Hãy trả lời bằng một đáp án đúng. Ví dụ: A. Câu hỏi: Một người bán hàng bỏ ra 80,000 đồng tiền vốn và bị lỗ 6%. Để tính số tiền lỗ ta phải tính Lựa chọn: A. 80,000 : 6 B. 80,000 x 6 C. 80,000 : (6 x 100) D. (80,000 x 6) : 100'"
      ]
     },
     "execution_count": 29,
     "metadata": {},
     "output_type": "execute_result"
    }
   ],
   "source": [
    "#from llm_foundry.scripts.train.dataloader import *\n",
    "\n",
    "def multiple_choice(inp: Dict[str, Union[str, List[str], int]]) -> Dict[str, str]:\n",
    "    return {\n",
    "        \"prompt\" : 'Hãy trả lời bằng một đáp án đúng. Ví dụ: A. Câu hỏi: {query} Lựa chọn: {options}'.format(\n",
    "            query=inp[\"question\"],\n",
    "            options=\" \".join(inp['choices']),\n",
    "        ),\n",
    "        \"response\" : inp[\"answer\"],\n",
    "    }\n",
    "\n",
    "print(multiple_choice(data[0]))\n",
    "multiple_choice(data[0])['prompt']"
   ]
  },
  {
   "cell_type": "code",
   "execution_count": 30,
   "metadata": {},
   "outputs": [],
   "source": [
    "PROMPT = \"### Câu hỏi:\\n{instruction}\\n\\n### Trả lời:\"  \n",
    "  \n",
    "input_prompt = PROMPT.format_map(  \n",
    "    {\"instruction\": multiple_choice(data[0])['prompt']} \n",
    ") \n",
    "\n",
    "input_ids = tokenizer(input_prompt, return_tensors=\"pt\")  \n",
    "  \n",
    "outputs = model.generate(  \n",
    "    inputs=input_ids[\"input_ids\"].to(\"cuda\"),  \n",
    "    attention_mask=input_ids[\"attention_mask\"].to(\"cuda\"),  \n",
    "    do_sample=True,  \n",
    "    temperature=1.0,  \n",
    "    top_k=50,  \n",
    "    top_p=0.9,  \n",
    "    max_new_tokens=1024,  \n",
    "    eos_token_id=tokenizer.eos_token_id,  \n",
    "    pad_token_id=tokenizer.pad_token_id  \n",
    ")  \n",
    "  \n",
    "response = tokenizer.batch_decode(outputs, skip_special_tokens=True)[0]  \n",
    "\n",
    "response = response.split(\"### Trả lời:\")[1]"
   ]
  },
  {
   "cell_type": "code",
   "execution_count": 31,
   "metadata": {},
   "outputs": [
    {
     "data": {
      "text/plain": [
       "'Để tính số tiền lỗ, ta cần tính lựa chọn sau:\\n\\nLựa chọn A. 80,000 : 6 B. 80,000 x 6 C. 80,000 : (6 x 100) D. 100\\n\\nLựa chọn C. 80,000 x 6 D. 80,000 x 6 = 600,000\\n\\nVậy số tiền lỗ là 600.000 đồng.'"
      ]
     },
     "execution_count": 31,
     "metadata": {},
     "output_type": "execute_result"
    }
   ],
   "source": [
    "response"
   ]
  },
  {
   "cell_type": "code",
   "execution_count": null,
   "metadata": {},
   "outputs": [],
   "source": [
    "tokenizer.tokenize(multiple_choice(data[0])['prompt'])\n"
   ]
  },
  {
   "cell_type": "code",
   "execution_count": 10,
   "metadata": {},
   "outputs": [
    {
     "data": {
      "text/plain": [
       "{'bos_token': '<s>',\n",
       " 'eos_token': '</s>',\n",
       " 'unk_token': '<unk>',\n",
       " 'pad_token': '<pad>'}"
      ]
     },
     "execution_count": 10,
     "metadata": {},
     "output_type": "execute_result"
    }
   ],
   "source": [
    "tokenizer.special_tokens_map"
   ]
  },
  {
   "cell_type": "code",
   "execution_count": null,
   "metadata": {},
   "outputs": [],
   "source": []
  }
 ],
 "metadata": {
  "kernelspec": {
   "display_name": "Python 3",
   "language": "python",
   "name": "python3"
  },
  "language_info": {
   "codemirror_mode": {
    "name": "ipython",
    "version": 3
   },
   "file_extension": ".py",
   "mimetype": "text/x-python",
   "name": "python",
   "nbconvert_exporter": "python",
   "pygments_lexer": "ipython3",
   "version": "3.10.13"
  }
 },
 "nbformat": 4,
 "nbformat_minor": 2
}
