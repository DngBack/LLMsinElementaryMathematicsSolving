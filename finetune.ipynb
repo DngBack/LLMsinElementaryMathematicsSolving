{
 "cells": [
  {
   "cell_type": "code",
   "execution_count": null,
   "metadata": {},
   "outputs": [],
   "source": [
    "!rm -rf data\n",
    "!mkdir data\n",
    "!wget -P data https://challenge.zalo.ai/public/data/math/test.zip\n",
    "!wget -P data https://challenge.zalo.ai/public/data/math/train.zip\n",
    "!unzip data/test.zip -d data\n",
    "!unzip data/train.zip -d data\n",
    "!rm -rf data/*.zip"
   ]
  },
  {
   "cell_type": "code",
   "execution_count": null,
   "metadata": {},
   "outputs": [],
   "source": [
    "import json\n",
    "import pandas as pd\n",
    "import datasets"
   ]
  },
  {
   "cell_type": "code",
   "execution_count": null,
   "metadata": {},
   "outputs": [],
   "source": [
    "train_df =  pd.DataFrame(json.load(open('/root/zaloai/data/math_train.json', 'r'))['data'], columns=['id', 'question', 'choices', 'answer'])\n",
    "test_df =  pd.DataFrame(json.load(open('/root/zaloai/data/math_test.json', 'r'))['data'], columns=['id', 'question', 'choices'])\n",
    "\n",
    "!mkdir data/train\n",
    "train_df.to_json('/root/zaloai/data/train/train.jsonl', orient='records', lines=True, force_ascii=False)\n",
    "\n",
    "!mkdir data/test\n",
    "test_df.to_json('/root/zaloai/data/test/test.jsonl', orient='records', lines=True, force_ascii=False)"
   ]
  }
 ],
 "metadata": {
  "kernelspec": {
   "display_name": "Python 3",
   "language": "python",
   "name": "python3"
  },
  "language_info": {
   "codemirror_mode": {
    "name": "ipython",
    "version": 3
   },
   "file_extension": ".py",
   "mimetype": "text/x-python",
   "name": "python",
   "nbconvert_exporter": "python",
   "pygments_lexer": "ipython3",
   "version": "3.10.13"
  }
 },
 "nbformat": 4,
 "nbformat_minor": 2
}
